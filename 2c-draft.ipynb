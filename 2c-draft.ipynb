{
 "cells": [
  {
   "cell_type": "markdown",
   "id": "2472f67e",
   "metadata": {},
   "source": [
    "## Introduction\n",
    "Question: Why does HIV-1 bind more efficiently to the CD4 cell surface compared to HIV-2?\n",
    "\n",
    "Hypothesis: If HIV-2 binds less efficiently to the CD4 cell receptors compared to HIV-1, then the HIV-1 and the CD4 cell surface have better protein protein interaction compared to HIV-2 and the CD4 cell surface.\n",
    "\n",
    "Backround: There are many strains and 2 main  types of HIV. There are HIV-1 and HIV-2. HIV-1 is the type that the majority of people have, and is known to be more transmissible with a quicker decline in health. On the other hand, there are fewer people living with HIV-2, it is less transmissible, and the decline in health is slower. So why is HIV-1 more transmissable with worse symptoms than HIV-2? It could possibly be due to differences in the receptors to the CD4 T cells. The CD4 T cells are white helper cells that look for foreign bodies that can get people sick. HIV infects these CD4 T cells by binding and fusing to the cell with proteins on HIV cell surface called gp120 and gp41.The gp120 structure of HIV-1 and HIV-2 are actually similar in structure although their sequences look very different (Davenport). So I am going to investigate the gp41 protein in this project, because a possible structural diffrence in this protein could be the cause of the differences in symptoms and transmissability of the two kinds of HIV.\n",
    "\n",
    ".pdb files from Unitprot and sequences from NCBI wedsite."
   ]
  },
  {
   "cell_type": "code",
   "execution_count": 1,
   "id": "7497eb28",
   "metadata": {},
   "outputs": [],
   "source": [
    "# The import below is going to give me functions so that I can do pariwise sequencing.\n",
    "# Go to https://biopython.org/wiki/Getting_Started to get the commands to install biopython which is where this package is from.\n",
    "from Bio import pairwise2\n",
    "# The import below is going to be able to give me the functions to visualize a protein from a pDB file.\n",
    "# Go to https://github.com/nglviewer/nglview to get the commands to install nglview.\n",
    "import nglview"
   ]
  },
  {
   "cell_type": "markdown",
   "id": "a8b94c69",
   "metadata": {},
   "source": [
    "Pairwise sequence alignment between the genomes of HIV-1 and HIV-2. This will show where there are differences in the genome that could account for the differences in efficiency in binding to CD4 T cells. I was originally going to focus on the env gene especially looking at the gp120 protein but now I think I will focus on the gp41 protein after reading one of my papers. One of the papers suggested that the gp120 protein looks structurally similar between the two types of HIV, so I will focus on the fusing receptor. This protein is also coded by the env gene and is also important for the virus to bind to the CD4 T cell."
   ]
  },
  {
   "cell_type": "code",
   "execution_count": 31,
   "id": "e74d1c8d",
   "metadata": {},
   "outputs": [
    {
     "name": "stdout",
     "output_type": "stream",
     "text": [
      "NC_001802.1\n"
     ]
    }
   ],
   "source": [
    "for record in SeqIO.parse(\"hiv1.fasta\", \"fasta\"):\n",
    "    print(record.id)"
   ]
  },
  {
   "cell_type": "code",
   "execution_count": 32,
   "id": "d296b1d5",
   "metadata": {},
   "outputs": [
    {
     "name": "stdout",
     "output_type": "stream",
     "text": [
      "J04542.1\n"
     ]
    }
   ],
   "source": [
    "for hi in SeqIO.parse(\"hiv2_sequence.fasta\", \"fasta\"):\n",
    "    print(hi.id)"
   ]
  },
  {
   "cell_type": "code",
   "execution_count": 33,
   "id": "49868b73",
   "metadata": {},
   "outputs": [],
   "source": [
    "from Bio import pairwise2\n",
    "alignments = pairwise2.align.globalxx(poop.id, record.id)"
   ]
  },
  {
   "cell_type": "code",
   "execution_count": 34,
   "id": "c534cd17",
   "metadata": {},
   "outputs": [
    {
     "name": "stdout",
     "output_type": "stream",
     "text": [
      "J---0454----2.1\n",
      "    |       |||\n",
      "-NC_0---01802.1\n",
      "  Score=4\n",
      "\n"
     ]
    }
   ],
   "source": [
    "# \n",
    "from Bio.pairwise2 import format_alignment\n",
    "print(format_alignment(*alignments[0]))"
   ]
  },
  {
   "cell_type": "markdown",
   "id": "1038375d",
   "metadata": {},
   "source": [
    "Homology modeling of the HIV-1 and HIV-2 type. This will predict the 3D structure of our virus/the gene we are focusing on. Protein structure tends to be conserved, so this will give us a visual if these are only really different on the sequence level, or if they have evolved to have proteins that appear different. Again I will be focusing on the gp41 protein and how the proteins structurally appear to be different/similar. "
   ]
  },
  {
   "cell_type": "code",
   "execution_count": 29,
   "id": "101c8aa5",
   "metadata": {},
   "outputs": [
    {
     "data": {
      "application/vnd.jupyter.widget-view+json": {
       "model_id": "4c4994b5eb754ec2a52aad791d209b39",
       "version_major": 2,
       "version_minor": 0
      },
      "text/plain": []
     },
     "metadata": {},
     "output_type": "display_data"
    },
    {
     "data": {
      "application/vnd.jupyter.widget-view+json": {
       "model_id": "0553b110d9d346a58c96c92c1fbcd06f",
       "version_major": 2,
       "version_minor": 0
      },
      "text/plain": [
       "NGLWidget()"
      ]
     },
     "metadata": {},
     "output_type": "display_data"
    }
   ],
   "source": [
    "\n",
    "view = nglview.show_pdbid(\"3tih\")  # load \"3tih\" from RCSB PDB and display viewer widget\n",
    "view.add_representation('licorice', selection='chain A')\n",
    "view"
   ]
  },
  {
   "cell_type": "code",
   "execution_count": 30,
   "id": "8c7618f4",
   "metadata": {},
   "outputs": [
    {
     "data": {
      "application/vnd.jupyter.widget-view+json": {
       "model_id": "80f7758cce40448cb5ef5271c891a36f",
       "version_major": 2,
       "version_minor": 0
      },
      "text/plain": [
       "NGLWidget()"
      ]
     },
     "metadata": {},
     "output_type": "display_data"
    }
   ],
   "source": [
    "import nglview\n",
    "view = nglview.show_pdbid(\"5cay\")  # load \"5cay\" from RCSB PDB and display viewer widget\n",
    "view.add_representation('licorice', selection='chain A')\n",
    "view"
   ]
  }
 ],
 "metadata": {
  "kernelspec": {
   "display_name": "Python 3 (ipykernel)",
   "language": "python",
   "name": "python3"
  },
  "language_info": {
   "codemirror_mode": {
    "name": "ipython",
    "version": 3
   },
   "file_extension": ".py",
   "mimetype": "text/x-python",
   "name": "python",
   "nbconvert_exporter": "python",
   "pygments_lexer": "ipython3",
   "version": "3.9.7"
  }
 },
 "nbformat": 4,
 "nbformat_minor": 5
}
